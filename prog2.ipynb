{
 "cells": [
  {
   "cell_type": "code",
   "execution_count": 15,
   "id": "98dc8f05-8953-49f8-9556-d2aa6f3c3128",
   "metadata": {},
   "outputs": [
    {
     "name": "stdout",
     "output_type": "stream",
     "text": [
      "BFS Result: ['TIN FACTORY', 'ITPL', 'SEACET', 'WHITEFIELD']\n",
      "DFS Result: ['TIN FACTORY', 'RM NAGER', 'K R PURAM', 'SEACET', 'WHITEFIELD']\n",
      "A* Result: ['TIN FACTORY', 'ITPL', 'SEACET', 'WHITEFIELD']\n"
     ]
    }
   ],
   "source": [
    "import networkx as nx\n",
    "import matplotlib.pyplot as plt\n",
    "import heapq\n",
    "\n",
    "# Create the city map\n",
    "G = nx.Graph()\n",
    "cities = {'A': 'SEACET', 'B': 'K R PURAM', 'C': 'ITPL', 'D': 'RM NAGER', 'E': 'TIN FACTORY', 'F': 'WHITEFIELD', 'G': 'HOSKOTE'}\n",
    "roads = [('A', 'B', 5), ('A', 'C', 3), ('B', 'D', 8), ('C', 'E', 2), ('D', 'E', 4), ('F', 'A', 2), ('G', 'C', 3)]\n",
    "G.add_weighted_edges_from(roads)\n",
    "G.add_nodes_from(cities.keys())\n",
    "\n",
    "# Define heuristic function for A*\n",
    "def heuristic(node, goal):\n",
    "    return nx.shortest_path_length(G, node, goal, weight='weight')\n",
    "\n",
    "# Breadth-First Search (BFS)\n",
    "def bfs(graph, start, goal):\n",
    "    visited = set()\n",
    "    queue = [(start, [start])]\n",
    "    while queue:\n",
    "        node, path = queue.pop(0)\n",
    "        if node == goal:\n",
    "            return path\n",
    "        if node not in visited:\n",
    "            visited.add(node)\n",
    "            for neighbor in graph.neighbors(node):\n",
    "                queue.append((neighbor, path + [neighbor]))\n",
    "    return None\n",
    "\n",
    "# Depth-First Search (DFS)\n",
    "def dfs(graph, start, goal):\n",
    "    visited = set()\n",
    "    stack = [(start, [start])]\n",
    "    while stack:\n",
    "        node, path = stack.pop()\n",
    "        if node == goal:\n",
    "            return path\n",
    "        if node not in visited:\n",
    "            visited.add(node)\n",
    "            for neighbor in graph.neighbors(node):\n",
    "                stack.append((neighbor, path + [neighbor]))\n",
    "    return None\n",
    "\n",
    "# A* Search\n",
    "def astar(graph, start, goal, h_func):\n",
    "    open_set = [(0, start, [start])]\n",
    "    visited = set()\n",
    "    while open_set:\n",
    "        _, node, path = heapq.heappop(open_set)\n",
    "        if node == goal:\n",
    "            return path\n",
    "        if node not in visited:\n",
    "            visited.add(node)\n",
    "            for neighbor, weight in graph[node].items():\n",
    "                if neighbor not in visited:\n",
    "                    total_cost = len(path) + weight['weight'] + h_func(neighbor, goal)\n",
    "                    heapq.heappush(open_set, (total_cost, neighbor, path + [neighbor]))\n",
    "    return None\n",
    "\n",
    "# Run searches\n",
    "start_city = 'E'\n",
    "goal_city = 'F'\n",
    "bfs_res = bfs(G, start_city, goal_city)\n",
    "dfs_res = dfs(G, start_city, goal_city)\n",
    "astar_res = astar(G, start_city, goal_city, heuristic)\n",
    "\n",
    "# Print results\n",
    "print(\"BFS Result:\", [cities[node] for node in bfs_res])\n",
    "print(\"DFS Result:\", [cities[node] for node in dfs_res])\n",
    "print(\"A* Result:\", [cities[node] for node in astar_res])\n"
   ]
  },
  {
   "cell_type": "code",
   "execution_count": null,
   "id": "38e0a2dc-bcda-4030-b22a-2256974b8012",
   "metadata": {},
   "outputs": [],
   "source": []
  }
 ],
 "metadata": {
  "kernelspec": {
   "display_name": "Python 3 (ipykernel)",
   "language": "python",
   "name": "python3"
  },
  "language_info": {
   "codemirror_mode": {
    "name": "ipython",
    "version": 3
   },
   "file_extension": ".py",
   "mimetype": "text/x-python",
   "name": "python",
   "nbconvert_exporter": "python",
   "pygments_lexer": "ipython3",
   "version": "3.12.0"
  }
 },
 "nbformat": 4,
 "nbformat_minor": 5
}
