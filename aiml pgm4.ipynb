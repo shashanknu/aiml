{
 "cells": [
  {
   "cell_type": "code",
   "execution_count": 1,
   "id": "099b42e9",
   "metadata": {},
   "outputs": [
    {
     "name": "stdout",
     "output_type": "stream",
     "text": [
      "x_train shape:  (936, 5)\n",
      "x_test shape:  (402, 5)\n",
      "y_train shape:  (936,)\n",
      "y_test shape:  (402,)\n",
      "R2 score:  0.7697211527941855\n",
      "The medical insurance cost of the new customer is :  [13831.50207896]\n",
      "The medical insurance cost of the new customer is : [13831.50207896]\n"
     ]
    }
   ],
   "source": [
    "import pandas as pd\n",
    "import seaborn as sns\n",
    "import matplotlib.pyplot as plt\n",
    "from matplotlib import style\n",
    "from sklearn.model_selection import train_test_split\n",
    "from sklearn.linear_model import LinearRegression\n",
    "df=dataset = pd.read_csv(r'C:\\Users\\ADMIN\\Desktop\\insurance.csv')\n",
    "df.head()\n",
    "df['sex'] = df['sex'].apply({'male':0,'female':1}.get)\n",
    "df['smoker']= df['smoker'].apply({'yes':1,'no':0}.get)\n",
    "df['region'] = df['region'].apply({'southwest':1,'southeast':2,'northwest':3,'northeast':4}.get)\n",
    "df.head()\n",
    " \n",
    "x = df.drop(['charges','sex'], axis=1)\n",
    "y = df.charges\n",
    "x_train,x_test,y_train,y_test = train_test_split(x,y, test_size=0.3, random_state =42)\n",
    "print(\"x_train shape: \",x_train.shape)\n",
    "print(\"x_test shape: \",x_test.shape)\n",
    "print(\"y_train shape: \",y_train.shape)\n",
    "print(\"y_test shape: \",y_test.shape)\n",
    "\n",
    "\n",
    "Linreg = LinearRegression()\n",
    "Linreg.fit(x_train,y_train)\n",
    "pred = Linreg.predict(x_test)\n",
    "from sklearn.metrics import r2_score\n",
    "print(\"R2 score: \",(r2_score(y_test,pred)))\n",
    "Data = {'age':50,'bmi':25,'children':12 ,'smoker':0,'region':2}\n",
    "Index =[0]\n",
    "Cust_df = pd.DataFrame(Data,Index)\n",
    "Cust_df\n",
    "Cost_pred1 = Linreg.predict(Cust_df)\n",
    "print(\"The medical insurance cost of the new customer is : \",Cost_pred1)\n",
    "Data = {'age':50,'bmi':25,'children':12 ,'smoker':0,'region':2}\n",
    "index =[0]\n",
    "cust_df = pd.DataFrame(Data,index)\n",
    "cust_df\n",
    "cost_pred2 = Linreg.predict(cust_df)\n",
    "print('The medical insurance cost of the new customer is :',cost_pred2)"
   ]
  },
  {
   "cell_type": "code",
   "execution_count": null,
   "id": "06f618aa",
   "metadata": {},
   "outputs": [],
   "source": []
  }
 ],
 "metadata": {
  "kernelspec": {
   "display_name": "Python 3 (ipykernel)",
   "language": "python",
   "name": "python3"
  },
  "language_info": {
   "codemirror_mode": {
    "name": "ipython",
    "version": 3
   },
   "file_extension": ".py",
   "mimetype": "text/x-python",
   "name": "python",
   "nbconvert_exporter": "python",
   "pygments_lexer": "ipython3",
   "version": "3.12.0"
  }
 },
 "nbformat": 4,
 "nbformat_minor": 5
}
